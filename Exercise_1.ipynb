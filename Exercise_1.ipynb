{
 "cells": [
  {
   "cell_type": "code",
   "execution_count": 2,
   "metadata": {},
   "outputs": [],
   "source": [
    "import numpy as np"
   ]
  },
  {
   "attachments": {},
   "cell_type": "markdown",
   "metadata": {},
   "source": [
    "## TASK A: Matrix standardisation function "
   ]
  },
  {
   "cell_type": "code",
   "execution_count": 59,
   "metadata": {},
   "outputs": [
    {
     "name": "stdout",
     "output_type": "stream",
     "text": [
      "[[ 0.74058808  1.7280553  -0.90453403]\n",
      " [-1.09478239 -0.67202151 -0.90453403]\n",
      " [ 1.22358031 -0.57601843  0.30151134]\n",
      " [-0.86938601 -0.48001536  1.50755672]]\n",
      "[[ 0.74058808  1.7280553  -0.90453403]\n",
      " [-1.09478239 -0.67202151 -0.90453403]\n",
      " [ 1.22358031 -0.57601843  0.30151134]\n",
      " [-0.86938601 -0.48001536  1.50755672]]\n"
     ]
    }
   ],
   "source": [
    "def normalise(matrix):\n",
    "    result = np.zeros(matrix.shape) # careful to make a copy!\n",
    "    matrix = matrix.astype(float)  # Convert the matrix to float data type\n",
    "    for i in range(matrix.shape[0]):\n",
    "        for j in range(matrix.shape[1]):\n",
    "            result[i, j] = (matrix[i, j] - np.mean(matrix[:, j])) / np.std(matrix[:, j])\n",
    "    return result\n",
    "\n",
    "#Vectorized version subtracts vectors from matrices using broadcasting\n",
    "def normalise_vectorized(matrix):\n",
    "    column_means = np.mean(matrix, axis=0)\n",
    "    column_std = np.std(matrix, axis=0)\n",
    "    standardized_matrix = (matrix - column_means) / column_std\n",
    "    return standardized_matrix\n",
    "\n",
    "# Example usage\n",
    "myMatrix = np.array([[80, 77, 3], [23, 2, 3], [95, 5, 6], [30, 8, 9]])\n",
    "print(normalise(myMatrix))\n",
    "print(normalise_vectorized(myMatrix))\n"
   ]
  },
  {
   "attachments": {},
   "cell_type": "markdown",
   "metadata": {},
   "source": [
    "## Task B: Eucliden Distance function"
   ]
  },
  {
   "cell_type": "code",
   "execution_count": 65,
   "metadata": {},
   "outputs": [
    {
     "data": {
      "text/plain": [
       "array([[ 1.41421356,  4.47213595,  8.94427191, 26.87005769],\n",
       "       [ 1.41421356,  2.        ,  6.32455532, 24.04163056],\n",
       "       [ 4.24264069,  2.        ,  4.        , 21.21320344]])"
      ]
     },
     "execution_count": 65,
     "metadata": {},
     "output_type": "execute_result"
    }
   ],
   "source": [
    "myMatrixA = np.array([[1,2],[3,4],[5,6]])\n",
    "myMatrixB = np.array([[2,3],[5,4],[9,6],[20,21]])\n",
    "\n",
    "#Euclidean Distance\n",
    "def euclideanDistance(matrixA, matrixB):\n",
    "    distance = np.zeros((matrixA.shape[0], matrixB.shape[0]))\n",
    "    for i in range(matrixA.shape[0]):\n",
    "        for j in range(matrixB.shape[0]):\n",
    "            distance[i,j] = np.sqrt(np.sum(np.square(matrixA[i] - matrixB[j])))\n",
    "    return distance\n",
    "\n",
    "euclideanDistance(myMatrixA, myMatrixB)"
   ]
  },
  {
   "attachments": {},
   "cell_type": "markdown",
   "metadata": {},
   "source": [
    "Task C: "
   ]
  }
 ],
 "metadata": {
  "kernelspec": {
   "display_name": "base",
   "language": "python",
   "name": "python3"
  },
  "language_info": {
   "codemirror_mode": {
    "name": "ipython",
    "version": 3
   },
   "file_extension": ".py",
   "mimetype": "text/x-python",
   "name": "python",
   "nbconvert_exporter": "python",
   "pygments_lexer": "ipython3",
   "version": "3.9.7"
  },
  "orig_nbformat": 4
 },
 "nbformat": 4,
 "nbformat_minor": 2
}
