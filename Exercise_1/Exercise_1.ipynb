{
 "cells": [
  {
   "cell_type": "code",
   "execution_count": 182,
   "metadata": {},
   "outputs": [],
   "source": [
    "import numpy as np\n",
    "%matplotlib inline\n",
    "import numpy as np\n",
    "import matplotlib.pyplot as plt\n",
    "%load_ext autoreload\n",
    "%autoreload 2\n",
    "from numpy.random import rand, randn"
   ]
  },
  {
   "attachments": {},
   "cell_type": "markdown",
   "metadata": {},
   "source": [
    "## TASK A: Matrix standardisation function "
   ]
  },
  {
   "cell_type": "code",
   "execution_count": 3,
   "metadata": {},
   "outputs": [
    {
     "name": "stdout",
     "output_type": "stream",
     "text": [
      "[[ 0.74058808  1.7280553  -0.90453403]\n",
      " [-1.09478239 -0.67202151 -0.90453403]\n",
      " [ 1.22358031 -0.57601843  0.30151134]\n",
      " [-0.86938601 -0.48001536  1.50755672]]\n",
      "[[ 0.74058808  1.7280553  -0.90453403]\n",
      " [-1.09478239 -0.67202151 -0.90453403]\n",
      " [ 1.22358031 -0.57601843  0.30151134]\n",
      " [-0.86938601 -0.48001536  1.50755672]]\n"
     ]
    }
   ],
   "source": [
    "def normalise(matrix):\n",
    "    result = np.zeros(matrix.shape) # careful to make a copy!\n",
    "    matrix = matrix.astype(float)  # Convert the matrix to float data type\n",
    "    for i in range(matrix.shape[0]):\n",
    "        for j in range(matrix.shape[1]):\n",
    "            result[i, j] = (matrix[i, j] - np.mean(matrix[:, j])) / np.std(matrix[:, j])\n",
    "    return result\n",
    "\n",
    "#Vectorized version subtracts vectors from matrices using broadcasting\n",
    "def normalise_vectorized(matrix):\n",
    "    column_means = np.mean(matrix, axis=0)\n",
    "    column_std = np.std(matrix, axis=0)\n",
    "    standardized_matrix = (matrix - column_means) / column_std\n",
    "    return standardized_matrix\n",
    "\n",
    "# Example usage\n",
    "myMatrix = np.array([[80, 77, 3], [23, 2, 3], [95, 5, 6], [30, 8, 9]])\n",
    "print(normalise(myMatrix))\n",
    "print(normalise_vectorized(myMatrix))\n"
   ]
  },
  {
   "attachments": {},
   "cell_type": "markdown",
   "metadata": {},
   "source": [
    "## Task B: Eucliden Distance function"
   ]
  },
  {
   "cell_type": "code",
   "execution_count": 4,
   "metadata": {},
   "outputs": [
    {
     "data": {
      "text/plain": [
       "array([[ 1.41421356,  4.47213595,  8.94427191, 26.87005769],\n",
       "       [ 1.41421356,  2.        ,  6.32455532, 24.04163056],\n",
       "       [ 4.24264069,  2.        ,  4.        , 21.21320344]])"
      ]
     },
     "execution_count": 4,
     "metadata": {},
     "output_type": "execute_result"
    }
   ],
   "source": [
    "myMatrixA = np.array([[1,2],[3,4],[5,6]])\n",
    "myMatrixB = np.array([[2,3],[5,4],[9,6],[20,21]])\n",
    "\n",
    "#Euclidean Distance\n",
    "def euclideanDistance(matrixA, matrixB):\n",
    "    distance = np.zeros((matrixA.shape[0], matrixB.shape[0]))\n",
    "    for i in range(matrixA.shape[0]):\n",
    "        for j in range(matrixB.shape[0]):\n",
    "            distance[i,j] = np.sqrt(np.sum(np.square(matrixA[i] - matrixB[j])))\n",
    "    return distance\n",
    "\n",
    "euclideanDistance(myMatrixA, myMatrixB)"
   ]
  },
  {
   "attachments": {},
   "cell_type": "markdown",
   "metadata": {},
   "source": [
    "## Task C: Likelihood of a data sample under a Gaussian model\n",
    "\n",
    "Here we assume having a 2 Bi-variate Gaussian Models, Model 0 and Model 1. We will sample 100 data points and assign them to either of the two models using the pdf of the multivariate Gaussian distribution.\n",
    "\n",
    "\\begin{equation}\n",
    "\\begin{split}\n",
    "\\mathcal{N}  (x_i|\\mu_k, \\Sigma_k) = \\frac{1}{(2\\pi)^{(d/2)} |\\Sigma_k|^{1/2}} \\exp \\left\\{- \\frac{1}{2} \\left(x_i-\\mu_k\\right)^{'} \\Sigma_k^{-1} \\left(x_i-\\mu_k \\right)  \\right\\}\n",
    "\\end{split}    \n",
    "\\end{equation}"
   ]
  },
  {
   "cell_type": "code",
   "execution_count": 186,
   "metadata": {},
   "outputs": [],
   "source": [
    "def multivariate_normal_pdf(mu,sigma,x):\n",
    "    return 1 / (2 * np.pi)**(len(mu)/2) * 1 / np.sqrt(np.linalg.det(sigma)) * np.exp(\n",
    "        -1/2 * np.dot(np.dot((x - mu).T, np.linalg.inv(sigma)), (x - mu)))\n",
    "\n",
    "\n",
    "n, d, k = 100, 2, 2\n",
    "np.random.seed(20)\n",
    "X = rand(n, d) # This is the data matrix consisting of 100 samples of a bivariate standard normal distribution\n",
    "\n",
    "\n",
    "#We make the means not to far from our sampled data points:\n",
    "model_1_mu = rand(d) * 0.5 + 0.5\n",
    "model_2_mu = - rand(d) * 0.5 + 0.5\n",
    "\n",
    "model_1_sigma = [np.diag(rand(d))]*2\n",
    "model_2_sigma = [np.diag(rand(d))]*2\n",
    "\n",
    "\n",
    "\n",
    "#Alternative Representation\n",
    "means = [rand(d) * 0.5 + 0.5 , - rand(d)  * 0.5 + 0.5]\n",
    "\n",
    "S = np.diag(rand(d))\n",
    "sigmas = [S]*k # This is the sigma of the first model and the second model\n",
    "\n",
    "result = np.array([])\n",
    "for i in range(n):\n",
    "    result = np.append(result, 0 if multivariate_normal_pdf(means[0], sigmas[0], X[i])>multivariate_normal_pdf(means[1], sigmas[1], X[i] ) else 1)\n"
   ]
  },
  {
   "cell_type": "code",
   "execution_count": 185,
   "metadata": {},
   "outputs": [
    {
     "data": {
      "image/png": "[encoded data removed]",
      "text/plain": [
       "<Figure size 432x288 with 1 Axes>"
      ]
     },
     "metadata": {
      "needs_background": "light"
     },
     "output_type": "display_data"
    }
   ],
   "source": [
    "\n",
    "colors = np.array(['red', 'green'])[result.astype(int)]\n",
    "plt.scatter(X[:, 0], X[:, 1], c=colors, s=100)\n",
    "plt.scatter(np.array(means)[:, 0], np.array(means)[:, 1], marker='*', s=200)\n",
    "plt.show()\n"
   ]
  }
 ],
 "metadata": {
  "kernelspec": {
   "display_name": "base",
   "language": "python",
   "name": "python3"
  },
  "language_info": {
   "codemirror_mode": {
    "name": "ipython",
    "version": 3
   },
   "file_extension": ".py",
   "mimetype": "text/x-python",
   "name": "python",
   "nbconvert_exporter": "python",
   "pygments_lexer": "ipython3",
   "version": "3.9.7"
  },
  "orig_nbformat": 4
 },
 "nbformat": 4,
 "nbformat_minor": 2
}
